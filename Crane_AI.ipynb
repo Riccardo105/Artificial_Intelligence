{
 "cells": [
  {
   "cell_type": "code",
   "execution_count": 2,
   "id": "d896c7b7-1684-401c-8299-7e9f4da3975f",
   "metadata": {
    "tags": []
   },
   "outputs": [],
   "source": [
    "initial_bays = [[(3, \"heavy\"), ], [(1, \"light\"), (6, \"light\"),], [], [(4, \"light\"),  (2, \"heavy\"), (5, \"light\")], [], []]\n",
    "initial_crane_position = 5\n",
    "initial_crane_container_held = 0\n",
    "initial_cost = 0\n",
    "\n",
    "initial_state = ([initial_bays, initial_crane_position, initial_crane_container_held], 0)"
   ]
  },
  {
   "cell_type": "markdown",
   "id": "f38aafb9-17c9-4252-bac6-272bf9fdf26e",
   "metadata": {},
   "source": [
    "The environment sees a set of loading_bays, where a set of containers are positioned, and a crane.\n",
    "The initial state will include: - The initial set up of the containers in the bays, \n",
    "                                - The location of the crane \n",
    "                                - What container it is hoding if any"
   ]
  }
 ],
 "metadata": {
  "kernelspec": {
   "display_name": "Python 3 (ipykernel)",
   "language": "python",
   "name": "python3"
  },
  "language_info": {
   "codemirror_mode": {
    "name": "ipython",
    "version": 3
   },
   "file_extension": ".py",
   "mimetype": "text/x-python",
   "name": "python",
   "nbconvert_exporter": "python",
   "pygments_lexer": "ipython3",
   "version": "3.11.5"
  }
 },
 "nbformat": 4,
 "nbformat_minor": 5
}
